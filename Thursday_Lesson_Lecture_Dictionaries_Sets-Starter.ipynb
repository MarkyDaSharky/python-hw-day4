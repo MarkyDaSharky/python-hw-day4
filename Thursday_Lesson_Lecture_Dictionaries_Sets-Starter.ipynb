{
 "cells": [
  {
   "cell_type": "markdown",
   "metadata": {},
   "source": [
    "# Data Collections 2 (Dictionaries, Sets) and Importing Modules"
   ]
  },
  {
   "cell_type": "markdown",
   "metadata": {},
   "source": [
    "## Tasks Today:\n",
    "\n",
    "1) Dictionary <br>\n",
    " &nbsp;&nbsp;&nbsp;&nbsp; a) Declaring (key, value) <br>\n",
    " &nbsp;&nbsp;&nbsp;&nbsp; b) Accessing Values <br>\n",
    " &nbsp;&nbsp;&nbsp;&nbsp; ------ Exercise #1 - Print the eye color of each person in a double nested dict <br>\n",
    " &nbsp;&nbsp;&nbsp;&nbsp; c) Adding New Pairs <br>\n",
    " &nbsp;&nbsp;&nbsp;&nbsp; d) Modifying Values <br>\n",
    " &nbsp;&nbsp;&nbsp;&nbsp; e) Removing Key, Value Pairs <br>\n",
    " &nbsp;&nbsp;&nbsp;&nbsp; f) Looping a Dictionary <br>\n",
    " &nbsp;&nbsp;&nbsp;&nbsp; g) Looping Only Keys <br>\n",
    " &nbsp;&nbsp;&nbsp;&nbsp; h) Looping Only Values <br>\n",
    " &nbsp;&nbsp;&nbsp;&nbsp; ------ Exercise #2 - Create a Function that Prints All Key Value Pairs within a print .format()  <br>\n",
    " &nbsp;&nbsp;&nbsp;&nbsp; i) sorted() <br>\n",
    " &nbsp;&nbsp;&nbsp;&nbsp; j) Lists with Dictionaries <br>\n",
    " &nbsp;&nbsp;&nbsp;&nbsp; k) Dictionaries with Lists <br>\n",
    " &nbsp;&nbsp;&nbsp;&nbsp; l) Dictionaries with Dictionaries <br>\n",
    " &nbsp;&nbsp;&nbsp;&nbsp; ------ Exercise #3 - Write a Function that asks someone's name and address, and then stores that into a dictionary, which prints all names and addresses after they're done putting information in...  <br>\n",
    "2) Dictionaries vs. Lists (over time)<br>\n",
    "3) Set <br>\n",
    " &nbsp;&nbsp;&nbsp;&nbsp; a) Declaring <br>\n",
    " &nbsp;&nbsp;&nbsp;&nbsp; b) .add() <br>\n",
    " &nbsp;&nbsp;&nbsp;&nbsp; c) .remove() <br>\n",
    " &nbsp;&nbsp;&nbsp;&nbsp; d) .union() <br>\n",
    " &nbsp;&nbsp;&nbsp;&nbsp; e) .intersection() <br>\n",
    " &nbsp;&nbsp;&nbsp;&nbsp; f) .difference() <br>\n",
    " &nbsp;&nbsp;&nbsp;&nbsp; g) Frozen Set <br>\n",
    "\n",
    "5) Exercises <br>\n",
    " &nbsp;&nbsp;&nbsp;&nbsp; a) Address Book Program <br>\n",
    " &nbsp;&nbsp;&nbsp;&nbsp; b) Best Times to Meet <br>"
   ]
  },
  {
   "cell_type": "markdown",
   "metadata": {},
   "source": [
    "#### Warm Up"
   ]
  },
  {
   "cell_type": "markdown",
   "metadata": {},
   "source": [
    "Given the list `address_book`, create a function that accepts a name (first or last or both) and returns the phone number of that name in the `address_book`. If the name is not in `address_book`, return -1.<br>\n",
    "\n",
    "Ex. 1<br>\n",
    "name = 'Hank'<br>\n",
    "Expected Output: '(555) 555-1234'<br>\n",
    "\n",
    "Ex. 2<br>\n",
    "name = 'Tevin'<br>\n",
    "Expected Output: '(333) 333-3245'<br>\n",
    "\n",
    "Ex. 3<br>\n",
    "name = 'Brian'<br>\n",
    "Expected Output: -1<br>"
   ]
  },
  {
   "cell_type": "code",
   "execution_count": 27,
   "metadata": {},
   "outputs": [
    {
     "name": "stdout",
     "output_type": "stream",
     "text": [
      "(555) 555-4321\n"
     ]
    }
   ],
   "source": [
    "address_book = [\n",
    "    ('Hank', 'Mardukas', '123 Real Street', '(555) 555-1234'),\n",
    "    ('Peter', 'Klaven', '321 Fake Street', '(555) 555-4321'),\n",
    "    ('Sydney', 'Fife', '555 Santa Monica Drive', '(222) 222-6789'),\n",
    "    ('Tevin', 'Downey', '100 Rodeo Blvd', '(333) 333-3245')\n",
    "]\n",
    "\n",
    "def phone_number(contact_list, first_name):\n",
    "    for contact in contact_list:\n",
    "        if contact[0] == first_name:\n",
    "            return contact[3]\n",
    "    return -1\n",
    "        \n",
    "        \n",
    "        \n",
    "        \n",
    "print(phone_number(address_book, 'Peter'))"
   ]
  },
  {
   "cell_type": "markdown",
   "metadata": {},
   "source": [
    "## Dictionary <br>\n",
    "<p>A collection of data with 'key:value' pairs. Dictionaries are ordered as of Python 3.6</p>"
   ]
  },
  {
   "cell_type": "markdown",
   "metadata": {},
   "source": [
    "##### Declaring (key, value)"
   ]
  },
  {
   "cell_type": "code",
   "execution_count": 36,
   "metadata": {},
   "outputs": [],
   "source": [
    "# Syntax: a_dict = {} or a_dict = dict() or a_dict = {'key': value, ...}\n",
    "\n",
    "\n",
    "d_3= {\n",
    "    'Hank': '123 Real Street',\n",
    "    'Peter': '321 Fake Street',\n",
    "    'Sydney': '555 Santa Monica Drive',\n",
    "    'Tevin': '100 Rodeo Blvd'\n",
    "}"
   ]
  },
  {
   "cell_type": "markdown",
   "metadata": {},
   "source": [
    "##### Accessing Values"
   ]
  },
  {
   "cell_type": "code",
   "execution_count": 37,
   "metadata": {},
   "outputs": [
    {
     "data": {
      "text/plain": [
       "'123 Real Street'"
      ]
     },
     "execution_count": 37,
     "metadata": {},
     "output_type": "execute_result"
    }
   ],
   "source": [
    "# dict[key]\n",
    "\n",
    "d_3['Hank']"
   ]
  },
  {
   "cell_type": "code",
   "execution_count": 38,
   "metadata": {},
   "outputs": [
    {
     "name": "stdout",
     "output_type": "stream",
     "text": [
      "Help on method_descriptor:\n",
      "\n",
      "get(self, key, default=None, /)\n",
      "    Return the value for key if key is in the dictionary, else default.\n",
      "\n"
     ]
    }
   ],
   "source": [
    "help(dict.get)"
   ]
  },
  {
   "cell_type": "code",
   "execution_count": null,
   "metadata": {},
   "outputs": [],
   "source": []
  },
  {
   "cell_type": "markdown",
   "metadata": {},
   "source": [
    "##### .get()"
   ]
  },
  {
   "cell_type": "code",
   "execution_count": 43,
   "metadata": {},
   "outputs": [
    {
     "name": "stdout",
     "output_type": "stream",
     "text": [
      "321 Fake Street\n",
      "None\n",
      "-1\n"
     ]
    }
   ],
   "source": [
    "# dict.get('key') or dict.get('key', value_if_no_key)\n",
    "print(d_3.get('Peter'))\n",
    "print(d_3.get('Mark'))\n",
    "print(d_3.get('Brian', -1))"
   ]
  },
  {
   "cell_type": "markdown",
   "metadata": {},
   "source": [
    "## In-Class Exercise #1 - Print a formatted statement from the dictionary below <br>\n",
    "<p>The output should be 'My favorite car is a 2018 Chevrolet Silverado'</p>"
   ]
  },
  {
   "cell_type": "code",
   "execution_count": 62,
   "metadata": {},
   "outputs": [
    {
     "name": "stdout",
     "output_type": "stream",
     "text": [
      "My favorite car is a 2018 Chevrolet Silverado\n"
     ]
    }
   ],
   "source": [
    "# use the dict below\n",
    "truck = {\n",
    "    'year': 2018,\n",
    "    'make': 'Chevrolet',\n",
    "    'model': 'Silverado'\n",
    "}\n",
    "print(f\"My favorite car is a {truck['year']} {truck['make']} {truck['model']}\")"
   ]
  },
  {
   "cell_type": "markdown",
   "metadata": {},
   "source": [
    "##### Adding New Pairs"
   ]
  },
  {
   "cell_type": "code",
   "execution_count": 63,
   "metadata": {},
   "outputs": [
    {
     "data": {
      "text/plain": [
       "{'Hank': '123 Real Street',\n",
       " 'Peter': '321 Fake Street',\n",
       " 'Sydney': '555 Santa Monica Drive',\n",
       " 'Tevin': '100 Rodeo Blvd',\n",
       " 'Zoeey': '151 Main Street'}"
      ]
     },
     "execution_count": 63,
     "metadata": {},
     "output_type": "execute_result"
    }
   ],
   "source": [
    "# dict[key] = value\n",
    "\n",
    "d_3['Zoeey'] = '151 Main Street'\n",
    "d_3"
   ]
  },
  {
   "cell_type": "markdown",
   "metadata": {},
   "source": [
    "##### Modifying Values"
   ]
  },
  {
   "cell_type": "code",
   "execution_count": 65,
   "metadata": {},
   "outputs": [
    {
     "data": {
      "text/plain": [
       "{'Hank': '123 Real Street',\n",
       " 'Peter': '321 Fake Street',\n",
       " 'Sydney': '555 Santa Monica Drive',\n",
       " 'Tevin': '100 Rodeo Blvd',\n",
       " 'Zoeey': '321 Fake Street'}"
      ]
     },
     "execution_count": 65,
     "metadata": {},
     "output_type": "execute_result"
    }
   ],
   "source": [
    "# dict[key] = value\n",
    "d_3['Zoeey'] = '321 Fake Street'\n",
    "d_3"
   ]
  },
  {
   "cell_type": "markdown",
   "metadata": {},
   "source": [
    "##### Removing Key, Value Pairs"
   ]
  },
  {
   "cell_type": "code",
   "execution_count": 66,
   "metadata": {},
   "outputs": [
    {
     "data": {
      "text/plain": [
       "{'Hank': '123 Real Street',\n",
       " 'Peter': '321 Fake Street',\n",
       " 'Sydney': '555 Santa Monica Drive',\n",
       " 'Zoeey': '321 Fake Street'}"
      ]
     },
     "execution_count": 66,
     "metadata": {},
     "output_type": "execute_result"
    }
   ],
   "source": [
    "# del dict[key]\n",
    "del d_3['Tevin']\n",
    "\n",
    "d_3"
   ]
  },
  {
   "cell_type": "markdown",
   "metadata": {},
   "source": [
    "##### Looping a Dictionary"
   ]
  },
  {
   "cell_type": "code",
   "execution_count": 68,
   "metadata": {},
   "outputs": [
    {
     "name": "stdout",
     "output_type": "stream",
     "text": [
      "('Hank', '123 Real Street')\n",
      "('Peter', '321 Fake Street')\n",
      "('Sydney', '555 Santa Monica Drive')\n",
      "('Zoeey', '321 Fake Street')\n"
     ]
    }
   ],
   "source": [
    "# .items()  --> list of tuples  --> tuples ==> ('key','value')\n",
    "# a, b, c = 1, 2, 3\n",
    "# print(a)\n",
    "# print(b)\n",
    "# print(c)\n",
    "\n",
    "for x in d_3.items():\n",
    "    print(x)\n"
   ]
  },
  {
   "cell_type": "markdown",
   "metadata": {},
   "source": [
    "##### Looping Only Keys"
   ]
  },
  {
   "cell_type": "code",
   "execution_count": null,
   "metadata": {},
   "outputs": [],
   "source": [
    "# .keys()\n",
    "# for i in d_3:\n",
    "#     print(i)\n",
    "d_3.keys()\n"
   ]
  },
  {
   "cell_type": "markdown",
   "metadata": {},
   "source": [
    "##### Looping Only Values"
   ]
  },
  {
   "cell_type": "code",
   "execution_count": 77,
   "metadata": {},
   "outputs": [
    {
     "name": "stdout",
     "output_type": "stream",
     "text": [
      "123 Real Street\n",
      "321 Fake Street\n",
      "555 Santa Monica Drive\n",
      "321 Fake Street\n"
     ]
    }
   ],
   "source": [
    "# .values()\n",
    "d_3.values()\n",
    "\n",
    "for v in d_3.values():\n",
    "    print(v)"
   ]
  },
  {
   "cell_type": "code",
   "execution_count": 78,
   "metadata": {},
   "outputs": [
    {
     "name": "stdout",
     "output_type": "stream",
     "text": [
      "Hank 123 Real Street\n",
      "Peter 321 Fake Street\n",
      "Sydney 555 Santa Monica Drive\n",
      "Zoeey 321 Fake Street\n"
     ]
    }
   ],
   "source": [
    "for k in d_3.keys():\n",
    "    print(k, d_3[k])"
   ]
  },
  {
   "cell_type": "code",
   "execution_count": 73,
   "metadata": {},
   "outputs": [
    {
     "name": "stdout",
     "output_type": "stream",
     "text": [
      "Help on built-in function format in module builtins:\n",
      "\n",
      "format(value, format_spec='', /)\n",
      "    Return value.__format__(format_spec)\n",
      "    \n",
      "    format_spec defaults to the empty string.\n",
      "    See the Format Specification Mini-Language section of help('FORMATTING') for\n",
      "    details.\n",
      "\n"
     ]
    }
   ],
   "source": [
    "help(format)"
   ]
  },
  {
   "cell_type": "markdown",
   "metadata": {},
   "source": [
    "## In-Class Exercise #2 - Create a Function that Prints All Key Value Pairs within a print .format() <br>\n",
    "<p><b>Output should be:</b><br>\n",
    "Max has blue eyes<br>\n",
    "Lilly has brown eyes<br>\n",
    "Barney has blue eyes<br>\n",
    "etc.\n",
    "</p>"
   ]
  },
  {
   "cell_type": "code",
   "execution_count": 94,
   "metadata": {},
   "outputs": [
    {
     "name": "stdout",
     "output_type": "stream",
     "text": [
      "Max has blue eyes\n",
      "Max has brown eyes\n",
      "Max has blue eyes\n",
      "Max has brown eyes\n",
      "Max has purple eyes\n",
      "Lilly has blue eyes\n",
      "Lilly has brown eyes\n",
      "Lilly has blue eyes\n",
      "Lilly has brown eyes\n",
      "Lilly has purple eyes\n",
      "Barney has blue eyes\n",
      "Barney has brown eyes\n",
      "Barney has blue eyes\n",
      "Barney has brown eyes\n",
      "Barney has purple eyes\n",
      "Larney has blue eyes\n",
      "Larney has brown eyes\n",
      "Larney has blue eyes\n",
      "Larney has brown eyes\n",
      "Larney has purple eyes\n",
      "Ted has blue eyes\n",
      "Ted has brown eyes\n",
      "Ted has blue eyes\n",
      "Ted has brown eyes\n",
      "Ted has purple eyes\n"
     ]
    }
   ],
   "source": [
    "# use the dict below\n",
    "\n",
    "people = {\n",
    "    'Max': 'blue',\n",
    "    'Lilly': 'brown',\n",
    "    'Barney': 'blue',\n",
    "    'Larney': 'brown',\n",
    "    'Ted': 'purple'\n",
    "}\n",
    "\n",
    "# def color_eyes(dictionary):\n",
    "#     for name in dictionary.keys():\n",
    "#         for color in dictionary.values():\n",
    "#             print(f'{name} has {color} eyes')\n",
    "\n",
    "# Brian's way\n",
    "def color_eyes(a_dict):\n",
    "    for key, value in a_dict.items():\n",
    "        print(f'{key} has {value} eyes')\n",
    "    print('')\n",
    "    for k in a_dict.keys():\n",
    "        print(f'{k} has {a_dict[k]} eyes')\n",
    "\n",
    "        \n",
    "        \n",
    "color_eyes(people)"
   ]
  },
  {
   "cell_type": "markdown",
   "metadata": {},
   "source": [
    "##### sorted()"
   ]
  },
  {
   "cell_type": "code",
   "execution_count": 101,
   "metadata": {},
   "outputs": [
    {
     "name": "stdout",
     "output_type": "stream",
     "text": [
      "[('Barney', 'blue'), ('Larney', 'brown'), ('Lilly', 'brown'), ('Max', 'blue'), ('Ted', 'purple')]\n",
      "['Barney', 'Larney', 'Lilly', 'Max', 'Ted']\n",
      "['blue', 'blue', 'brown', 'brown', 'purple']\n",
      "['Barney', 'Larney', 'Lilly', 'Max', 'Ted']\n"
     ]
    }
   ],
   "source": [
    "# sorts variables in order\n",
    "# sorted(dict.values()) or dict.keys() or dict.items()\n",
    "print(sorted(people.items()))\n",
    "print(sorted(people.keys()))\n",
    "print(sorted(people.values()))\n",
    "print(sorted(people))"
   ]
  },
  {
   "cell_type": "markdown",
   "metadata": {},
   "source": [
    "##### List with Dictionaries"
   ]
  },
  {
   "cell_type": "code",
   "execution_count": null,
   "metadata": {},
   "outputs": [],
   "source": []
  },
  {
   "cell_type": "markdown",
   "metadata": {},
   "source": [
    "##### List of Dictionaries"
   ]
  },
  {
   "cell_type": "code",
   "execution_count": null,
   "metadata": {},
   "outputs": [],
   "source": [
    "\n",
    "movies = [\n",
    "    {'title': 'Inception', 'director': 'Christopher Nolan', 'release_year': 2010},\n",
    "    {'title': 'The Social Network', 'director': 'David Fincher', 'release_year': 2010},\n",
    "    {'title': 'The Departed', 'director': 'Martin Scorsese', 'release_year': 2006},\n",
    "    {'title': 'Parasite', 'director': 'Bong Joon Ho', 'release_year': 2019}\n",
    "]\n",
    "\n"
   ]
  },
  {
   "cell_type": "markdown",
   "metadata": {},
   "source": [
    "##### Dictionaries with Lists"
   ]
  },
  {
   "cell_type": "code",
   "execution_count": 102,
   "metadata": {},
   "outputs": [
    {
     "name": "stdout",
     "output_type": "stream",
     "text": [
      "smith\n",
      "smith\n"
     ]
    }
   ],
   "source": [
    "# be careful when using numbers as keys in dictionaries, don't confuse them with indexes\n",
    "random_data = {\n",
    "    'list1': [54,7,11],\n",
    "    \"2\":['smith']\n",
    "}\n",
    "\n",
    "for key in random_data['2']:\n",
    "    print(key)\n",
    "    \n",
    "print(random_data['2'][0])"
   ]
  },
  {
   "cell_type": "markdown",
   "metadata": {},
   "source": [
    "##### Dictionaries with Dictionaries"
   ]
  },
  {
   "cell_type": "code",
   "execution_count": null,
   "metadata": {},
   "outputs": [],
   "source": [
    "# to get values, must traverse through keys\n",
    "my_shoppe = {\n",
    "    'ice_cream': {\n",
    "        'vanilla': 2.99,\n",
    "        'chocolate': 2.99,\n",
    "        'oreo': 3.49\n",
    "    },\n",
    "    'milkshake': {\n",
    "        'vanilla': 3.99,\n",
    "        'chocolate': 3.99,\n",
    "        'oreo': 4.49\n",
    "    }\n",
    "}\n",
    "\n",
    "print(my_shoppe['ice_cream']['oreo'])\n",
    "print(my_shoppe['milkshake']['chocolate'])"
   ]
  },
  {
   "cell_type": "code",
   "execution_count": 104,
   "metadata": {},
   "outputs": [
    {
     "name": "stdout",
     "output_type": "stream",
     "text": [
      "{'full_name': 'Jimmy Smith', 'email': 'jsmith@email.com', 'prog_languages': [{'name': 'Python', 'proficiency': 8}, {'name': 'JavaScript', 'proficiency': 5}], 'experience': [{'company': 'Omnicorp', 'position': 'bossman', 'years_at_company': [2010, 2011, 2012, 2013]}, {'company': 'AlphaInc', 'position': 'QA', 'years_at_company': [2014, 2015, 2016]}], 'us_citizen': True}\n"
     ]
    }
   ],
   "source": [
    "job_app = {\n",
    "    'full_name': 'Jimmy Smith',\n",
    "    'email': 'jsmith@email.com',\n",
    "    'prog_languages': [\n",
    "        {\n",
    "            'name': 'Python',\n",
    "            'proficiency': 8\n",
    "        },\n",
    "        {\n",
    "            'name': 'JavaScript',\n",
    "            'proficiency': 5\n",
    "        }\n",
    "    ],\n",
    "    'experience': [\n",
    "        {\n",
    "            'company': 'Omnicorp',\n",
    "            'position': 'bossman',\n",
    "            'years_at_company': [2010, 2011, 2012, 2013]\n",
    "        },\n",
    "        {\n",
    "            'company': 'AlphaInc',\n",
    "            'position': 'QA',\n",
    "            'years_at_company': [2014, 2015, 2016]\n",
    "        }\n",
    "    ],\n",
    "    'us_citizen': True\n",
    "}\n",
    "\n",
    "\n",
    "print(job_app)"
   ]
  },
  {
   "cell_type": "code",
   "execution_count": 113,
   "metadata": {},
   "outputs": [
    {
     "name": "stdout",
     "output_type": "stream",
     "text": [
      "8\n"
     ]
    }
   ],
   "source": [
    "print(job_app['prog_languages'][0]['proficiency'])"
   ]
  },
  {
   "cell_type": "code",
   "execution_count": 117,
   "metadata": {},
   "outputs": [
    {
     "data": {
      "text/plain": [
       "3"
      ]
     },
     "execution_count": 117,
     "metadata": {},
     "output_type": "execute_result"
    }
   ],
   "source": [
    "# How many years did Jimmy Smith work at AlphaInc?\n",
    "len(job_app['experience'][1]['years_at_company'])"
   ]
  },
  {
   "cell_type": "markdown",
   "metadata": {},
   "source": [
    "## Dictionaries vs. Lists (over time) Example of RUNTIME\n",
    "### When inputting values in a Dictionary vs List"
   ]
  },
  {
   "cell_type": "code",
   "execution_count": 118,
   "metadata": {},
   "outputs": [],
   "source": [
    "import time\n",
    "\n",
    "\n",
    "# generate fake dictionary\n",
    "d = {}\n",
    "\n",
    "for i in range(10000000):\n",
    "    d[i] = 'value'\n",
    "    \n",
    "\n",
    "# generate fake list\n",
    "big_list = [x for x in range(10000000)]"
   ]
  },
  {
   "cell_type": "code",
   "execution_count": 130,
   "metadata": {},
   "outputs": [
    {
     "name": "stdout",
     "output_type": "stream",
     "text": [
      "True\n",
      "Elapsed time for dictionary: 0.0010006427764892578\n",
      "True\n",
      "Elapsed time for list: 0.06505966186523438\n"
     ]
    }
   ],
   "source": [
    "# tracking time for set\n",
    "start_time = time.time()\n",
    "\n",
    "print(9999999 in d)\n",
    "\n",
    "end_time = time.time()\n",
    "\n",
    "elapsed_time = end_time - start_time\n",
    "\n",
    "print(f'Elapsed time for dictionary: {elapsed_time}')\n",
    "\n",
    "\n",
    "# tracking time for list\n",
    "start_time = time.time()\n",
    "\n",
    "print(9999999 in big_list)\n",
    "\n",
    "end_time = time.time()\n",
    "\n",
    "elapsed_time = end_time - start_time\n",
    "\n",
    "print(f'Elapsed time for list: {elapsed_time}')"
   ]
  },
  {
   "cell_type": "markdown",
   "metadata": {},
   "source": [
    "## Set <br>\n",
    "<p>A Set is an unordered collection data type that is iterable (loop), mutable, and has no duplicate elements.<br>Major advantage is that it is highly optimized in checking if something is in the set, as opposed to checking if something is in a list.</p>"
   ]
  },
  {
   "cell_type": "markdown",
   "metadata": {},
   "source": [
    "##### Declaring"
   ]
  },
  {
   "cell_type": "code",
   "execution_count": null,
   "metadata": {},
   "outputs": [],
   "source": [
    "# set() or {}\n"
   ]
  },
  {
   "cell_type": "markdown",
   "metadata": {},
   "source": [
    "##### .add()"
   ]
  },
  {
   "cell_type": "code",
   "execution_count": null,
   "metadata": {},
   "outputs": [],
   "source": [
    "\n"
   ]
  },
  {
   "cell_type": "markdown",
   "metadata": {},
   "source": [
    "##### .remove()"
   ]
  },
  {
   "cell_type": "code",
   "execution_count": null,
   "metadata": {},
   "outputs": [],
   "source": []
  },
  {
   "cell_type": "markdown",
   "metadata": {},
   "source": [
    "##### .union() "
   ]
  },
  {
   "cell_type": "code",
   "execution_count": null,
   "metadata": {},
   "outputs": [],
   "source": [
    "# Returns a union of two sets, can also use '|' or set.union(set)\n",
    "# joins all numbers, gets rid of duplicates\n"
   ]
  },
  {
   "cell_type": "markdown",
   "metadata": {},
   "source": [
    "##### .intersection()"
   ]
  },
  {
   "cell_type": "code",
   "execution_count": null,
   "metadata": {},
   "outputs": [],
   "source": [
    "# Returns an intersection of two sets, can also use '&'\n",
    "# only takes similar elements from both sets\n"
   ]
  },
  {
   "cell_type": "markdown",
   "metadata": {},
   "source": [
    "##### .difference()"
   ]
  },
  {
   "cell_type": "code",
   "execution_count": null,
   "metadata": {},
   "outputs": [],
   "source": [
    "# Returns a set containing all the elements of invoking set that are not in the second set, can also use '-'\n",
    "# only takes values from the first set that are not in the second set\n",
    "# order matters\n"
   ]
  },
  {
   "cell_type": "markdown",
   "metadata": {},
   "source": [
    "##### .clear()"
   ]
  },
  {
   "cell_type": "code",
   "execution_count": null,
   "metadata": {},
   "outputs": [],
   "source": [
    "# Empties the whole set\n",
    "# set.clear()\n"
   ]
  },
  {
   "cell_type": "code",
   "execution_count": null,
   "metadata": {},
   "outputs": [],
   "source": []
  },
  {
   "cell_type": "code",
   "execution_count": null,
   "metadata": {},
   "outputs": [],
   "source": [
    "import time\n",
    "# generate fake set\n",
    "big_set = {i for i in range(10000000)}\n",
    "    \n",
    "\n",
    "# generate fake list\n",
    "big_list = [x for x in range(10000000)]"
   ]
  },
  {
   "cell_type": "code",
   "execution_count": null,
   "metadata": {},
   "outputs": [],
   "source": [
    "# tracking time for set\n",
    "start_time = time.time()\n",
    "\n",
    "print(9999999 in big_set)\n",
    "\n",
    "end_time = time.time()\n",
    "\n",
    "elapsed_time = end_time - start_time\n",
    "\n",
    "print(f'Elapsed time for set: {elapsed_time}')\n",
    "\n",
    "\n",
    "# tracking time for list\n",
    "start_time = time.time()\n",
    "\n",
    "print(9999999 in big_list)\n",
    "\n",
    "end_time = time.time()\n",
    "\n",
    "elapsed_time = end_time - start_time\n",
    "\n",
    "print(f'Elapsed time for list: {elapsed_time}')"
   ]
  },
  {
   "cell_type": "markdown",
   "metadata": {},
   "source": [
    "##### Frozenset <br>\n",
    "<p>Frozen sets are immutable objects that only support methods and operators that produce a result without affecting the frozen set or sets to which they are applied.</p><br><b>Unique & Immutable</b>"
   ]
  },
  {
   "cell_type": "code",
   "execution_count": null,
   "metadata": {},
   "outputs": [],
   "source": [
    "# frozenset([])\n"
   ]
  },
  {
   "cell_type": "markdown",
   "metadata": {},
   "source": [
    "# Exercises"
   ]
  },
  {
   "cell_type": "markdown",
   "metadata": {},
   "source": [
    "### 1) Create a program that allows a user to continue to add people to an address book until the user quits. Once the user quits, break out of the loop and print out the name and address of everyone in the address book"
   ]
  },
  {
   "cell_type": "markdown",
   "metadata": {},
   "source": [
    "###### Steps\n",
    "1. Create a function that will ask user for name and addresses and stores them in a dictionary\n",
    "2. Define an empty dictionary with which to work (global or local variable?)\n",
    "3. Begin a loop that will continue to ask a user for information until the user \"quits\"\n",
    "4. If the user does not quit, ask for a name and address and store the values into variables\n",
    "5. Add information to the dictionary with name as the key and address as the value\n",
    "6. If the user does quit, end the loop\n",
    "7. Print out the information from the dictionary in a formatted way\n",
    "8. Execute/Call the function"
   ]
  },
  {
   "cell_type": "code",
   "execution_count": 131,
   "metadata": {},
   "outputs": [
    {
     "name": "stdout",
     "output_type": "stream",
     "text": [
      "Mark lives at 123 Coding Rd\n",
      "Brian lives at 323 Cool Ave\n",
      "Nate lives at 5991 Temple Blvd\n"
     ]
    }
   ],
   "source": [
    "from IPython.display import clear_output\n",
    "\n",
    "\n",
    "def contact_list():\n",
    "    #empty dictionary\n",
    "    contact_book = {}\n",
    "    #while loop\n",
    "    while True:\n",
    "        quit = input('Would you like to add a contact or quit?  add/quit: ')\n",
    "        if quit.lower() == 'quit':\n",
    "            break\n",
    "        elif quit.lower() == 'add':\n",
    "            name = input('Name of contact: ')\n",
    "            address = input('Address of contact: ')\n",
    "            contact_book[name] = address\n",
    "        elif quit.lower != 'quit':\n",
    "            print('Please enter a valid response')\n",
    "    clear_output()\n",
    "    for name, address in contact_book.items():\n",
    "        print(f'{name.title()} lives at {address.title()}')\n",
    "\n",
    "              \n",
    "contact_list()\n",
    "    "
   ]
  },
  {
   "cell_type": "markdown",
   "metadata": {},
   "source": [
    "### 2) Best Time to Meet"
   ]
  },
  {
   "cell_type": "markdown",
   "metadata": {},
   "source": [
    "Billy is trying to figure out if there is a time that he and his team can meet to work on the project. His three teammates each give him a list of times they are available ('HH:MM' 24-hour). Create a function that will take in the list of all the teammates and return a list of times where everyone can meet."
   ]
  },
  {
   "cell_type": "code",
   "execution_count": 132,
   "metadata": {},
   "outputs": [
    {
     "data": {
      "text/plain": [
       "\"This is when we can meet {'14:30', '12:00'}\""
      ]
     },
     "execution_count": 132,
     "metadata": {},
     "output_type": "execute_result"
    }
   ],
   "source": [
    "billy_times = ['09:00', '10:30', '11:30', '12:00', '13:00', '14:30']\n",
    "teammate_1 = ['09:30', '10:00', '10:30', '12:00', '14:30', '16:00']\n",
    "teammate_2 = ['09:00', '09:30', '11:00', '11:30', '12:00', '13:30', '14:30', '15:00']\n",
    "teammate_3 = ['11:00', '11:30', '12:00', '14:00', '14:30', '16:30', '17:00']\n",
    "# Available Times: '12:00' and '14:30'\n",
    "\n",
    "def time_to_meet(t1, t2, t3, t4):\n",
    "    t1 = set(t1)\n",
    "    t2 = set(t2)\n",
    "    t3 = set(t3)\n",
    "    t4 = set(t4)\n",
    "    meeting = t1 & t2 & t3 & t4\n",
    "    return f'This is when we can meet {meeting}'\n",
    "\n",
    "\n",
    "\n",
    "\n",
    "time_to_meet(billy_times,teammate_1,teammate_2,teammate_3)\n",
    "    \n"
   ]
  }
 ],
 "metadata": {
  "kernelspec": {
   "display_name": "Python 3 (ipykernel)",
   "language": "python",
   "name": "python3"
  },
  "language_info": {
   "codemirror_mode": {
    "name": "ipython",
    "version": 3
   },
   "file_extension": ".py",
   "mimetype": "text/x-python",
   "name": "python",
   "nbconvert_exporter": "python",
   "pygments_lexer": "ipython3",
   "version": "3.9.7"
  }
 },
 "nbformat": 4,
 "nbformat_minor": 2
}
